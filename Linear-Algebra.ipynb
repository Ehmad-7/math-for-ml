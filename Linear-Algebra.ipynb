{
 "cells": [
  {
   "cell_type": "code",
   "execution_count": 1,
   "id": "1733b33a",
   "metadata": {},
   "outputs": [],
   "source": [
    "import numpy as np\n"
   ]
  },
  {
   "cell_type": "markdown",
   "id": "4aaa1a51",
   "metadata": {},
   "source": [
    "## Tensors"
   ]
  },
  {
   "cell_type": "code",
   "execution_count": 3,
   "id": "8270b806",
   "metadata": {},
   "outputs": [
    {
     "data": {
      "text/plain": [
       "0"
      ]
     },
     "execution_count": 3,
     "metadata": {},
     "output_type": "execute_result"
    }
   ],
   "source": [
    "zeroD_tensor=np.array(2)\n",
    "zeroD_tensor.ndim"
   ]
  },
  {
   "cell_type": "code",
   "execution_count": 4,
   "id": "8f310ec2",
   "metadata": {},
   "outputs": [
    {
     "data": {
      "text/plain": [
       "1"
      ]
     },
     "execution_count": 4,
     "metadata": {},
     "output_type": "execute_result"
    }
   ],
   "source": [
    "oneD_tensor=np.array([1,2,3,4])\n",
    "oneD_tensor.ndim"
   ]
  },
  {
   "cell_type": "code",
   "execution_count": 6,
   "id": "e71ee8fd",
   "metadata": {},
   "outputs": [
    {
     "name": "stdout",
     "output_type": "stream",
     "text": [
      "Two D tensor:\n",
      " [[1 2 3]\n",
      " [4 5 6]\n",
      " [7 8 9]]\n",
      "Dimension of two D tensor: 2\n",
      "Three D tensor:\n",
      " [[[ 1  2  3]\n",
      "  [ 4  5  6]\n",
      "  [ 7  8  9]]\n",
      "\n",
      " [[10 11 12]\n",
      "  [13 14 15]\n",
      "  [16 17 18]]\n",
      "\n",
      " [[19 20 21]\n",
      "  [22 23 24]\n",
      "  [25 26 27]]]\n",
      "Dimension of three D tensor: 3\n"
     ]
    }
   ],
   "source": [
    "twoD_tensor=np.array([[1,2,3],[4,5,6],[7,8,9]])\n",
    "print(\"Two D tensor:\\n\",twoD_tensor)\n",
    "print(\"Dimension of two D tensor:\",twoD_tensor.ndim)\n",
    "\n",
    "threeD_tensor=np.array([[[1,2,3],[4,5,6],[7,8,9]],[[10,11,12],[13,14,15],[16,17,18]],[[19,20,21],[22,23,24],[25,26,27]]])\n",
    "print(\"Three D tensor:\\n\",threeD_tensor)\n",
    "print(\"Dimension of three D tensor:\",threeD_tensor.ndim)"
   ]
  },
  {
   "cell_type": "markdown",
   "id": "eca683c7",
   "metadata": {},
   "source": [
    "## Matrix Multiplication"
   ]
  },
  {
   "cell_type": "code",
   "execution_count": null,
   "id": "7c907939",
   "metadata": {},
   "outputs": [
    {
     "name": "stdout",
     "output_type": "stream",
     "text": [
      "Manual matrix mutltiplication result:\n",
      "[84, 90, 96]\n",
      "[201, 216, 231]\n",
      "[318, 342, 366]\n"
     ]
    }
   ],
   "source": [
    "mat1=[[1,2,3],[4,5,6],[7,8,9]]\n",
    "mat2=[[10,11,12],[13,14,15],[16,17,18]]\n",
    "\n",
    "result=[[0 for _ in range(len(mat2[0]))] for _ in range(len(mat1))]\n",
    "\n",
    "for i in range(len(mat1)):\n",
    "  for j in range(len(mat2[0])):\n",
    "    for k in range(len(mat2)):\n",
    "      result[i][j]+=mat1[i][k]*mat2[k][j]\n",
    "      \n",
    "print(\"Manual matrix mutltiplication result:\")\n",
    "\n",
    "for r in result:\n",
    "  print(r)"
   ]
  },
  {
   "cell_type": "code",
   "execution_count": 8,
   "id": "e2b6e398",
   "metadata": {},
   "outputs": [
    {
     "name": "stdout",
     "output_type": "stream",
     "text": [
      "Numpy matrix multiplication result:\n",
      " [[ 84  90  96]\n",
      " [201 216 231]\n",
      " [318 342 366]]\n"
     ]
    }
   ],
   "source": [
    "a=np.array(mat1)\n",
    "b=np.array(mat2)\n",
    "print(\"Numpy matrix multiplication result:\\n\",np.dot(a,b))"
   ]
  }
 ],
 "metadata": {
  "kernelspec": {
   "display_name": "Python 3",
   "language": "python",
   "name": "python3"
  },
  "language_info": {
   "codemirror_mode": {
    "name": "ipython",
    "version": 3
   },
   "file_extension": ".py",
   "mimetype": "text/x-python",
   "name": "python",
   "nbconvert_exporter": "python",
   "pygments_lexer": "ipython3",
   "version": "3.12.8"
  }
 },
 "nbformat": 4,
 "nbformat_minor": 5
}
